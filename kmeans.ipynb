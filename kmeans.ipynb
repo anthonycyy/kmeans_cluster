{
 "cells": [
  {
   "cell_type": "markdown",
   "metadata": {},
   "source": [
    "# kmeans clustering from scratch"
   ]
  },
  {
   "cell_type": "markdown",
   "metadata": {},
   "source": [
    "import libraries"
   ]
  },
  {
   "cell_type": "code",
   "execution_count": 1,
   "metadata": {},
   "outputs": [],
   "source": [
    "import numpy as np\n",
    "import pandas as pd\n",
    "import matplotlib.pyplot as plt\n",
    "import seaborn as sns\n",
    "import sklearn"
   ]
  },
  {
   "cell_type": "markdown",
   "metadata": {},
   "source": [
    "## k means clustering with random initialization"
   ]
  },
  {
   "cell_type": "code",
   "execution_count": 2,
   "metadata": {},
   "outputs": [],
   "source": [
    "#helper function\n",
    "#categorize the datas into certian clusters\n",
    "def categ(clusters,datas):\n",
    "    d={}\n",
    "    for data in datas:\n",
    "        corr_dist=float('inf')\n",
    "        for i,cluster in enumerate(clusters):\n",
    "            dist=np.linalg.norm(data-cluster)\n",
    "            if dist<corr_dist:\n",
    "                corr_dist=dist\n",
    "                corr_cluster_i=i\n",
    "        if corr_cluster_i in d:\n",
    "            d[corr_cluster_i].append(data)\n",
    "        else:\n",
    "            d[corr_cluster_i]=[data]\n",
    "    return d"
   ]
  },
  {
   "cell_type": "code",
   "execution_count": 3,
   "metadata": {},
   "outputs": [],
   "source": [
    "def kmeans_c(datas,num_clusters):\n",
    "    clusters=datas[np.random.choice(range(len(datas)),num_clusters,replace=False)]\n",
    "    d=categ(clusters,datas)\n",
    "    while True:\n",
    "        new_clusters=[]\n",
    "        s=0\n",
    "        for key,value in d.items():\n",
    "            new_cluster=np.mean(np.array(value),axis=0)\n",
    "            new_clusters.append(new_cluster)\n",
    "            s+=np.linalg.norm(clusters[key]-new_cluster)\n",
    "        if s==0:\n",
    "            return d\n",
    "        else:\n",
    "            clusters=new_clusters\n",
    "            d=categ(clusters,datas)"
   ]
  },
  {
   "cell_type": "markdown",
   "metadata": {},
   "source": [
    "## k means clustering with kmeans++ initialization"
   ]
  },
  {
   "cell_type": "code",
   "execution_count": 72,
   "metadata": {},
   "outputs": [],
   "source": [
    "#kmeans++ initialization\n",
    "def kmeans_init(datas,num_clusters):\n",
    "    p=int(np.log10(len(datas)))\n",
    "    clusters=[]\n",
    "    clusters.append(datas[np.random.choice(range(len(datas)))])\n",
    "    for i_ in range(1,num_clusters):\n",
    "        d={}\n",
    "        total=0\n",
    "        for i,data in enumerate(datas):\n",
    "            d[i]=min([np.linalg.norm(data-clusters[j]) for j in range(i_)])\n",
    "            total+=d[i]\n",
    "        l=[]\n",
    "        max_proba=0\n",
    "        for i,data in enumerate(datas):\n",
    "            proba=d[i]/total\n",
    "            l+=[data]*int(proba*pow(10,p))\n",
    "            if proba>max_proba:\n",
    "                max_proba=proba\n",
    "                max_i=i\n",
    "        if l==[]:\n",
    "            clusters.append(datas[max_i])\n",
    "        else:\n",
    "            clusters.append(l[np.random.choice(range(len(l)))])\n",
    "    return clusters"
   ]
  },
  {
   "cell_type": "code",
   "execution_count": 73,
   "metadata": {},
   "outputs": [],
   "source": [
    "def kmeans_c_init(datas,num_clusters):\n",
    "    clusters=kmeans_init(datas,num_clusters)\n",
    "    d=categ(clusters,datas)\n",
    "    while True:\n",
    "        new_clusters=[]\n",
    "        s=0\n",
    "        for key,value in d.items():\n",
    "            new_cluster=np.mean(np.array(value),axis=0)\n",
    "            new_clusters.append(new_cluster)\n",
    "            s+=np.linalg.norm(clusters[key]-new_cluster)\n",
    "        if s==0:\n",
    "            return d\n",
    "        else:\n",
    "            clusters=new_clusters\n",
    "            d=categ(clusters,datas)"
   ]
  },
  {
   "cell_type": "markdown",
   "metadata": {},
   "source": [
    "plots the 2D datas"
   ]
  },
  {
   "cell_type": "code",
   "execution_count": 6,
   "metadata": {},
   "outputs": [],
   "source": [
    "def plot_kmeans_c(d):\n",
    "    for key,value in d.items():\n",
    "        value=np.array(value)\n",
    "        plt.scatter(value[:,0],value[:,1])"
   ]
  },
  {
   "cell_type": "markdown",
   "metadata": {},
   "source": [
    "## deploy the kmeans algorithm"
   ]
  },
  {
   "cell_type": "code",
   "execution_count": 7,
   "metadata": {},
   "outputs": [],
   "source": [
    "from sklearn.datasets import make_blobs"
   ]
  },
  {
   "cell_type": "code",
   "execution_count": 9,
   "metadata": {},
   "outputs": [],
   "source": [
    "#generate the datas\n",
    "X, y = make_blobs(n_samples=10000, centers=5, cluster_std=0.5)"
   ]
  },
  {
   "cell_type": "code",
   "execution_count": 10,
   "metadata": {},
   "outputs": [
    {
     "data": {
      "image/png": "[encoded data removed]",
      "text/plain": [
       "<Figure size 432x288 with 1 Axes>"
      ]
     },
     "metadata": {
      "needs_background": "light"
     },
     "output_type": "display_data"
    }
   ],
   "source": [
    "d=kmeans_c(X,5)\n",
    "plot_kmeans_c(d)"
   ]
  },
  {
   "cell_type": "code",
   "execution_count": 11,
   "metadata": {},
   "outputs": [
    {
     "data": {
      "image/png": "[encoded data removed]",
      "text/plain": [
       "<Figure size 432x288 with 1 Axes>"
      ]
     },
     "metadata": {
      "needs_background": "light"
     },
     "output_type": "display_data"
    }
   ],
   "source": [
    "d=kmeans_c_init(X,5)\n",
    "plot_kmeans_c(d)"
   ]
  },
  {
   "cell_type": "code",
   "execution_count": 39,
   "metadata": {},
   "outputs": [
    {
     "data": {
      "image/png": "[encoded data removed]",
      "text/plain": [
       "<Figure size 432x288 with 1 Axes>"
      ]
     },
     "metadata": {
      "needs_background": "light"
     },
     "output_type": "display_data"
    }
   ],
   "source": [
    "#generate the datas\n",
    "X, y = make_blobs(n_samples=10000, centers=5, cluster_std=0.5)\n",
    "d=kmeans_c_init(X,5)\n",
    "plot_kmeans_c(d)"
   ]
  },
  {
   "cell_type": "code",
   "execution_count": 76,
   "metadata": {},
   "outputs": [
    {
     "data": {
      "image/png": "[encoded data removed]",
      "text/plain": [
       "<Figure size 432x288 with 1 Axes>"
      ]
     },
     "metadata": {
      "needs_background": "light"
     },
     "output_type": "display_data"
    }
   ],
   "source": [
    "X, y = make_blobs(n_samples=90000, centers=6, cluster_std=0.5)\n",
    "d=kmeans_c_init(X,6)\n",
    "plot_kmeans_c(d)"
   ]
  },
  {
   "cell_type": "code",
   "execution_count": 74,
   "metadata": {},
   "outputs": [
    {
     "data": {
      "text/plain": [
       "[array([ 7.20632044, -8.46618349]),\n",
       " array([-8.03959172, -3.31974581]),\n",
       " array([7.86658232, 4.92664916]),\n",
       " array([ 9.25449904, -1.90584976]),\n",
       " array([5.92992534, 0.34584293])]"
      ]
     },
     "execution_count": 74,
     "metadata": {},
     "output_type": "execute_result"
    }
   ],
   "source": [
    "X, y = make_blobs(n_samples=90000, centers=5, cluster_std=0.5)\n",
    "kmeans_init(X,5)"
   ]
  },
  {
   "cell_type": "code",
   "execution_count": null,
   "metadata": {},
   "outputs": [],
   "source": []
  }
 ],
 "metadata": {
  "kernelspec": {
   "display_name": "Python 3",
   "language": "python",
   "name": "python3"
  },
  "language_info": {
   "codemirror_mode": {
    "name": "ipython",
    "version": 3
   },
   "file_extension": ".py",
   "mimetype": "text/x-python",
   "name": "python",
   "nbconvert_exporter": "python",
   "pygments_lexer": "ipython3",
   "version": "3.8.3"
  }
 },
 "nbformat": 4,
 "nbformat_minor": 4
}
